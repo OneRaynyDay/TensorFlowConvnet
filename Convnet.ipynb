{
 "cells": [
  {
   "cell_type": "markdown",
   "metadata": {},
   "source": [
    "# Tensorflow Convnet #"
   ]
  },
  {
   "cell_type": "code",
   "execution_count": 1,
   "metadata": {
    "collapsed": false
   },
   "outputs": [],
   "source": [
    "# matplotlib inline command allows us to see right below the code.\n",
    "%matplotlib inline\n",
    "import matplotlib.image as mpimg\n",
    "import matplotlib.pyplot as plt\n",
    "\n",
    "import tensorflow as tf\n",
    "import numpy as np\n",
    "import os\n",
    "import input_data\n",
    "import warnings # Ignore dumb warnings about deprecation I'll worry about this when I'm dead\n",
    "warnings.filterwarnings('ignore')\n",
    "\n",
    "# Stuff for the plt figures\n",
    "plt.rcParams['figure.figsize'] = (10.0, 8.0) # set default size of plots\n",
    "plt.rcParams['image.interpolation'] = 'nearest'\n",
    "plt.rcParams['image.cmap'] = 'gray'"
   ]
  },
  {
   "cell_type": "code",
   "execution_count": 2,
   "metadata": {
    "collapsed": false
   },
   "outputs": [
    {
     "name": "stdout",
     "output_type": "stream",
     "text": [
      "Extracting MNIST_data/train-images-idx3-ubyte.gz\n",
      "Extracting MNIST_data/train-labels-idx1-ubyte.gz\n",
      "Extracting MNIST_data/t10k-images-idx3-ubyte.gz\n",
      "Extracting MNIST_data/t10k-labels-idx1-ubyte.gz\n"
     ]
    }
   ],
   "source": [
    "mnist = input_data.read_data_sets(\"MNIST_data/\", one_hot=True)\n",
    "trX, trY, teX, teY = mnist.train.images, mnist.train.labels, mnist.test.images, mnist.test.labels"
   ]
  },
  {
   "cell_type": "code",
   "execution_count": 3,
   "metadata": {
    "collapsed": false
   },
   "outputs": [
    {
     "name": "stdout",
     "output_type": "stream",
     "text": [
      "trX.shape (55000, 784)\n",
      "trY.shape (55000, 10)\n",
      "teX.shape (10000, 784)\n",
      "teY.shape (10000, 10)\n"
     ]
    }
   ],
   "source": [
    "print(\"trX.shape\", trX.shape)\n",
    "print(\"trY.shape\", trY.shape)\n",
    "print(\"teX.shape\", teX.shape)\n",
    "print(\"teY.shape\", teY.shape)"
   ]
  },
  {
   "cell_type": "code",
   "execution_count": 4,
   "metadata": {
    "collapsed": false
   },
   "outputs": [
    {
     "name": "stdout",
     "output_type": "stream",
     "text": [
      "X_train.shape (44000, 784)\n",
      "X_val.shape (11000, 784)\n",
      "y_train.shape (44000, 10)\n",
      "y_val.shape (11000, 10)\n"
     ]
    }
   ],
   "source": [
    "# Turn some into validation: We want 1/5th\n",
    "FRACTION_VAL = 5\n",
    "\n",
    "N,D = trX.shape\n",
    "seq = np.array(range(N))\n",
    "np.random.shuffle(seq)\n",
    "\n",
    "X_train = trX[seq[N/FRACTION_VAL:]]\n",
    "y_train = trY[seq[N/FRACTION_VAL:]]\n",
    "X_val = trX[seq[:N/FRACTION_VAL]]\n",
    "y_val = trY[seq[:N/FRACTION_VAL]]\n",
    "\n",
    "print(\"X_train.shape\" , X_train.shape)\n",
    "print(\"X_val.shape\" , X_val.shape)\n",
    "print(\"y_train.shape\" , y_train.shape)\n",
    "print(\"y_val.shape\" , y_val.shape)"
   ]
  },
  {
   "cell_type": "code",
   "execution_count": 5,
   "metadata": {
    "collapsed": false
   },
   "outputs": [
    {
     "name": "stdout",
     "output_type": "stream",
     "text": [
      "Labels, in order:  [8 4 2 1 3 5 2 4 0 4]\n"
     ]
    },
    {
     "data": {
      "image/png": "[encoded data removed]",
      "text/plain": [
       "<matplotlib.figure.Figure at 0x10d492400>"
      ]
     },
     "metadata": {},
     "output_type": "display_data"
    }
   ],
   "source": [
    "# Let's try to visualize some of these. The format of the images are 28x28.\n",
    "SHOW_IMAGE = 10\n",
    "\n",
    "for i in range(SHOW_IMAGE):\n",
    "    plt.subplot(SHOW_IMAGE/5, SHOW_IMAGE/2, i+1)\n",
    "    implot = plt.imshow(X_train[i].reshape((28,28)))\n",
    "    plt.axis('off')\n",
    "\n",
    "print(\"Labels, in order: \", np.where(y_train[:i+1] == 1)[-1])"
   ]
  },
  {
   "cell_type": "code",
   "execution_count": 14,
   "metadata": {
    "collapsed": true
   },
   "outputs": [],
   "source": [
    "# Now let's build a neural network for this!\n",
    "# We have the architecture CONV -> RELU -> FC -> RELU -> FC -> SOFTMAX\n",
    "\n",
    "def init_weight(shape, std = 0.01):\n",
    "    return tf.Variable(tf.random_normal(shape, std))\n",
    "\n",
    "def init_model(params):\n",
    "    X, W0, W1, W2, W3, W4, W5, conv_dropout, fc_dropout = params\n",
    "    \n",
    "    ##### STARTING CONV #####\n",
    "    # First we want to CONV the X to conv_1\n",
    "    conv_0 = tf.nn.conv2d(X, W0, [1,1,1,1], padding='SAME')\n",
    "    batch_0 = tf.nn.batch_normalization(drop_0, mean[0], variance[0], offset[0], scale, variance_epsilon, name=None)\n",
    "    relu_0 = tf.nn.relu(conv_0)\n",
    "    drop_0 = tf.nn.dropout(relu_0, conv_dropout)\n",
    "    # Then, we want to CONV the conv_1 to conv_2\n",
    "    conv_1 = tf.nn.conv2d(drop_0, W1, [1,1,1,1], padding='SAME')\n",
    "    relu_1 = tf.nn.relu(conv_1)\n",
    "    drop_1 = tf.nn.dropout(relu_1, conv_dropout)\n",
    "    \n",
    "    # Then, we want to POOL the conv_2\n",
    "    pool_1 = tf.nn.max_pool(relu_1, [1,2,2,1], [1,2,2,1], padding='SAME')\n",
    "    \n",
    "    # Then, we want to CONV the pool_2 to conv_3\n",
    "    conv_2 = tf.nn.conv2d(pool_1, W2, [1,1,1,1], padding='SAME')\n",
    "    relu_2 = tf.nn.relu(conv_2)\n",
    "    drop_2 = tf.nn.dropout(relu_2, conv_dropout)\n",
    "\n",
    "    \n",
    "    # Then, we want to POOL the conv_3\n",
    "    pool_2 = tf.nn.max_pool(relu_2, [1,2,2,1], [1,2,2,1], padding='SAME')\n",
    "    \n",
    "    # Then, we want to CONV the pool_3\n",
    "    conv_3 = tf.nn.conv2d(pool_2, W3, [1,1,1,1], padding='SAME')\n",
    "    relu_3 = tf.nn.relu(conv_3)\n",
    "    drop_3 = tf.nn.dropout(relu_3, conv_dropout)\n",
    "\n",
    "    \n",
    "    ##### STARTING FC #####\n",
    "    # Then we need to unroll this result and start FC\n",
    "    fc_3 = tf.reshape(conv_3, [-1, 7*7*64])\n",
    "    fc_4 = tf.matmul(fc_3, W4)\n",
    "    relu_4 = tf.nn.relu(fc_4)\n",
    "    drop_4 = tf.nn.dropout(relu_4, fc_dropout)\n",
    "    \n",
    "    # Then we need to fc again to get the result\n",
    "    fc_5 = tf.matmul(relu_4, W5)\n",
    "    \n",
    "    answer = fc_5\n",
    "    return answer"
   ]
  },
  {
   "cell_type": "code",
   "execution_count": 15,
   "metadata": {
    "collapsed": false
   },
   "outputs": [],
   "source": [
    "# Variable is a starting point. tf.random_normal initializes it for us with a stddev\n",
    "input_shape = X_train.shape\n",
    "X = tf.placeholder(tf.float32, [None, 28, 28, 1])\n",
    "y = tf.placeholder(tf.float32, [None, 10])\n",
    "\n",
    "############################# CONVOLUTIONAL LAYER INITIALIZATION #############################\n",
    "# Each layer is in the form of [NxHxWxC]\n",
    "# We start off with a layer of [Nx28x28x1]\n",
    "# We change it to a layer of [Nx28x28x64] from CONV a filter of [3x3], padding 1\n",
    "# Therefore, we need the weight [filter_height = 3, filter_width = 3, in_channels = 1, out_channels = 64]\n",
    "W0 = init_weight([3,3,1,64])\n",
    "\n",
    "# Then, we change it to a layer of [Nx28x28x64] from CONV a filter of [3x3], padding 1\n",
    "# Therefore, we need the weight [filter_height = 3, filter_width = 3, in_channels = 64, out_channels = 64\n",
    "W1 = init_weight([3,3,64,64])\n",
    "\n",
    "# Then, we change it to a layer of [Nx14x14x64] from POOLING with filter of [2x2] with stride 2\n",
    "# No weights necessary.\n",
    "\n",
    "# Then, we change it to a layer of [Nx14x14x64] from CONV with a filter of [3x3], padding 1\n",
    "# Therefore, we need the weight [filter_height = 3, filter_width = 3, in_channels = 64, out_channels = 128]\n",
    "W2 = init_weight([3,3,64,128])\n",
    "\n",
    "# Then, we get the layer of [Nx7x7x128] from POOLING with filter of [2x2] with stride 2\n",
    "# No weights necessary.\n",
    "\n",
    "# Then, we get the layer of [Nx7x7x64] from CONV with a filter of [3x3], padding 1\n",
    "# Therefore, we need the weight [filter_height = 3, filter_width = 3, in_channels = 128, out_channels = 64]\n",
    "W3 = init_weight([3,3,128,64])\n",
    "################################################################################################\n",
    "\n",
    "############################# FULLY CONNECTED LAYERS INITIALIZATION #############################\n",
    "# We need to unroll the parameters of the CONV layer, and we get an input of [Nx(7x7x64)]\n",
    "W4 = init_weight([7*7*64, 300])\n",
    "\n",
    "# Then, we do one more FC before we feed into softmax:\n",
    "W5 = init_weight([300, 10])\n",
    "################################################################################################\n",
    "\n",
    "#################################### EXTRA PARAMETERS ####################################\n",
    "conv_dropout = tf.placeholder(tf.float32)\n",
    "fc_dropout = tf.placeholder(tf.float32)"
   ]
  },
  {
   "cell_type": "code",
   "execution_count": 26,
   "metadata": {
    "collapsed": true
   },
   "outputs": [],
   "source": [
    "# Hyperparams:\n",
    "learning_rate = 1e-4\n",
    "reg_rate = 1e-4\n",
    "\n",
    "hypothesis = init_model((X, W0, W1, W2, W3, W4, W5, conv_dropout, fc_dropout))\n",
    "cross_entropy = tf.reduce_mean(tf.nn.softmax_cross_entropy_with_logits(hypothesis, y))\n",
    "\n",
    "# Regularization \n",
    "cross_entropy += reg_rate * (tf.nn.l2_loss(W0)+tf.nn.l2_loss(W1)+tf.nn.l2_loss(W2)\n",
    "                             +tf.nn.l2_loss(W3)+tf.nn.l2_loss(W4)+tf.nn.l2_loss(W5))\n",
    "\n",
    "# Using Adam to optimize\n",
    "train_op = tf.train.AdamOptimizer(learning_rate).minimize(cross_entropy)\n",
    "predict_op = tf.argmax(hypothesis, 1)\n",
    "\n",
    "# Let's log it to see our progress!\n",
    "loss_summary = tf.scalar_summary('loss', cross_entropy)\n",
    "\n",
    "# Reshape the matrices into the correct conv dimensions:\n",
    "X_train = X_train.reshape(-1,28,28,1)\n",
    "X_val = X_val.reshape(-1,28,28,1)\n",
    "teX = teX.reshape(-1,28,28,1)"
   ]
  },
  {
   "cell_type": "code",
   "execution_count": 18,
   "metadata": {
    "collapsed": false
   },
   "outputs": [
    {
     "name": "stdout",
     "output_type": "stream",
     "text": [
      "Loss :  1.24869e+07\n",
      "0 0.09765625\n",
      "Loss :  1.07745e+07\n",
      "1 0.13671875\n",
      "Loss :  8.54806e+06\n",
      "2 0.11328125\n",
      "Loss :  6.9705e+06\n",
      "3 0.14453125\n",
      "Loss :  5.64172e+06\n",
      "4 0.12890625\n",
      "Loss :  5.25852e+06\n",
      "5 0.1875\n",
      "Loss :  4.63622e+06\n",
      "6 0.203125\n",
      "Loss :  4.17056e+06\n",
      "7 0.1796875\n",
      "Loss :  3.45193e+06\n",
      "8 0.26171875\n",
      "Loss :  3.39095e+06\n",
      "9 0.2734375\n",
      "Loss :  2.8567e+06\n",
      "10 0.2734375\n",
      "Loss :  2.87599e+06\n",
      "11 0.3828125\n",
      "Loss :  2.91606e+06\n",
      "12 0.3984375\n",
      "Loss :  2.32616e+06\n",
      "13 0.39453125\n",
      "Loss :  2.19092e+06\n",
      "14 0.43359375\n",
      "Loss :  2.223e+06\n",
      "15 0.4453125\n",
      "Loss :  1.94056e+06\n",
      "16 0.47265625\n",
      "Loss :  2.4266e+06\n",
      "17 0.5078125\n",
      "Loss :  2.23955e+06\n",
      "18 0.4609375\n",
      "Loss :  1.79095e+06\n",
      "19 0.546875\n",
      "Loss :  1.33303e+06\n",
      "20 0.55859375\n",
      "Loss :  1.40051e+06\n",
      "21 0.4765625\n",
      "Loss :  1.29897e+06\n",
      "22 0.62890625\n",
      "Loss :  1.40351e+06\n",
      "23 0.5390625\n",
      "Loss :  1.82460e+06\n",
      "24 0.5625\n",
      "Loss :  1.47272e+06\n",
      "25 0.58203125\n",
      "Loss :  1.58832e+06\n",
      "26 0.6171875\n",
      "Loss :  1.05445e+06\n",
      "27 0.65234375\n",
      "Loss :  1.6348e+06\n",
      "28 0.68359375\n",
      "Loss :  1.662e+06\n",
      "29 0.6328125\n",
      "Loss :  1.40786e+06\n",
      "30 0.5625\n",
      "Loss :  878385.0\n",
      "31 0.625\n",
      "Loss :  1.49385e+06\n",
      "32 0.6640625\n",
      "Loss :  711702.0\n",
      "33 0.65234375\n",
      "Loss :  1.22882e+06\n",
      "34 0.68359375\n",
      "Loss :  833605.0\n",
      "35 0.66015625\n",
      "Loss :  971511.0\n",
      "36 0.67578125\n",
      "Loss :  999288.0\n",
      "37 0.74609375\n",
      "Loss :  1.13713e+06\n",
      "38 0.74609375\n",
      "Loss :  1.29319e+06\n",
      "39 0.66015625\n",
      "Loss :  1.02703e+06\n",
      "40 0.6796875\n",
      "Loss :  1.01399e+06\n",
      "41 0.67578125\n",
      "Loss :  1.31792e+06\n",
      "42 0.75390625\n",
      "Loss :  1.06089e+06\n",
      "43 0.7265625\n",
      "Loss :  850281.0\n",
      "44 0.70703125\n",
      "Loss :  888257.0\n",
      "45 0.6796875\n",
      "Loss :  945017.0\n",
      "46 0.6953125\n",
      "Loss :  864842.0\n",
      "47 0.7734375\n",
      "Loss :  911149.0\n",
      "48 0.75390625\n",
      "Loss :  905144.0\n",
      "49 0.75\n",
      "Loss :  752431.0\n",
      "50 0.7578125\n",
      "Loss :  829439.0\n",
      "51 0.7578125\n",
      "Loss :  794417.0\n",
      "52 0.7578125\n",
      "Loss :  826612.0\n",
      "53 0.7734375\n",
      "Loss :  1.02995e+06\n",
      "54 0.76171875\n",
      "Loss :  748245.0\n",
      "55 0.76171875\n",
      "Loss :  875897.0\n",
      "56 0.7890625\n",
      "Loss :  878267.0\n",
      "57 0.765625\n",
      "Loss :  657656.0\n",
      "58 0.7421875\n",
      "Loss :  698120.0\n",
      "59 0.7734375\n",
      "Loss :  587761.0\n",
      "60 0.75390625\n",
      "Loss :  899124.0\n",
      "61 0.71875\n",
      "Loss :  579549.0\n",
      "62 0.83984375\n",
      "Loss :  629385.0\n",
      "63 0.76953125\n",
      "Loss :  624296.0\n",
      "64 0.7890625\n",
      "Loss :  805277.0\n",
      "65 0.78515625\n",
      "Loss :  734185.0\n",
      "66 0.80859375\n",
      "Loss :  730995.0\n",
      "67 0.796875\n",
      "Loss :  635407.0\n",
      "68 0.7578125\n",
      "Loss :  545766.0\n",
      "69 0.83984375\n",
      "Loss :  600210.0\n",
      "70 0.8046875\n",
      "Loss :  699146.0\n",
      "71 0.8046875\n",
      "Loss :  885888.0\n",
      "72 0.8203125\n",
      "Loss :  500900.0\n",
      "73 0.796875\n",
      "Loss :  640524.0\n",
      "74 0.8046875\n",
      "Loss :  592356.0\n",
      "75 0.828125\n",
      "Loss :  443894.0\n",
      "76 0.8046875\n",
      "Loss :  449812.0\n",
      "77 0.79296875\n",
      "Loss :  583840.0\n",
      "78 0.828125\n",
      "Loss :  540585.0\n",
      "79 0.81640625\n",
      "Loss :  708843.0\n",
      "80 0.78125\n",
      "Loss :  563251.0\n",
      "81 0.85546875\n",
      "Loss :  634315.0\n",
      "82 0.8046875\n",
      "Loss :  564644.0\n",
      "83 0.82421875\n",
      "Loss :  450027.0\n",
      "84 0.80859375\n",
      "Loss :  452670.0\n",
      "85 0.8203125\n",
      "Loss :  594549.0\n",
      "86 0.8515625\n",
      "Loss :  446056.0\n",
      "87 0.83984375\n",
      "Loss :  594830.0\n",
      "88 0.8125\n",
      "Loss :  515477.0\n",
      "89 0.83203125\n",
      "Loss :  329427.0\n",
      "90 0.7890625\n",
      "Loss :  547492.0\n",
      "91 0.83984375\n",
      "Loss :  759949.0\n",
      "92 0.8515625\n",
      "Loss :  650587.0\n",
      "93 0.828125\n",
      "Loss :  470526.0\n",
      "94 0.8359375\n",
      "Loss :  791207.0\n",
      "95 0.86328125\n",
      "Loss :  558851.0\n",
      "96 0.82421875\n",
      "Loss :  615891.0\n",
      "97 0.828125\n",
      "Loss :  350250.0\n",
      "98 0.859375\n",
      "Loss :  584058.0\n",
      "99 0.8515625\n",
      "Model saved in file: model.ckpt\n"
     ]
    }
   ],
   "source": [
    "# Launch the graph in a session\n",
    "with tf.Session() as sess:\n",
    "    #merged = tf.merge_all_summaries([loss_summary])\n",
    "    writer = tf.train.SummaryWriter('logs', sess.graph_def)\n",
    "    # you need to initialize all variables\n",
    "    tf.initialize_all_variables().run()\n",
    "    saver = tf.train.Saver()\n",
    "\n",
    "    for i in range(100):\n",
    "        NUM_BATCHES = 10\n",
    "        for j in range(NUM_BATCHES):\n",
    "            batch_mask = np.random.choice(44000, 128)\n",
    "            summary_str, _, cur_loss = sess.run([loss_summary, train_op, cross_entropy], \n",
    "                                                feed_dict={X: X_train[batch_mask], \n",
    "                                                           y: y_train[batch_mask],\n",
    "                                                           conv_dropout: 0.8, \n",
    "                                                           fc_dropout: 0.5})\n",
    "\n",
    "        test_indices = np.arange(len(X_val)) # Get a validation batch\n",
    "        np.random.shuffle(test_indices)\n",
    "        test_indices = test_indices[0:256]\n",
    "\n",
    "        writer.add_summary(summary_str, i)\n",
    "        print(\"Loss : \" , cur_loss)\n",
    "        print(i, np.mean(np.argmax(y_val[test_indices], axis=1) ==\n",
    "                         sess.run(predict_op, feed_dict={X: X_val[test_indices],\n",
    "                                                         y: y_val[test_indices],\n",
    "                                                         conv_dropout: 1.0,\n",
    "                                                         fc_dropout: 1.0})))\n",
    "        \n",
    "    save_path = saver.save(sess, \"model.ckpt\") # checkpoint file\n",
    "    print(\"Model saved in file: %s\" % save_path)"
   ]
  },
  {
   "cell_type": "code",
   "execution_count": 30,
   "metadata": {
    "collapsed": false
   },
   "outputs": [
    {
     "name": "stdout",
     "output_type": "stream",
     "text": [
      "Answers :  [7 2 1 0 4 1 7 9 5 9]\n"
     ]
    },
    {
     "data": {
      "image/png": "[encoded data removed]",
      "text/plain": [
       "<matplotlib.figure.Figure at 0x1112ce860>"
      ]
     },
     "metadata": {},
     "output_type": "display_data"
    }
   ],
   "source": [
    "with tf.Session() as sess:\n",
    "    saver.restore(sess, \"model.ckpt\")\n",
    "    answers = sess.run(predict_op, feed_dict={X: teX[:SHOW_IMAGE],\n",
    "                                     y: teY[:SHOW_IMAGE],\n",
    "                                     conv_dropout: 1.0,\n",
    "                                     fc_dropout: 1.0})\n",
    "    for i in range(SHOW_IMAGE):\n",
    "        plt.subplot(SHOW_IMAGE/5, SHOW_IMAGE/2, i+1)\n",
    "        implot = plt.imshow(teX[i].reshape((28,28)))\n",
    "        plt.axis('off')\n",
    "    print(\"Answers : \", answers)"
   ]
  },
  {
   "cell_type": "code",
   "execution_count": null,
   "metadata": {
    "collapsed": true
   },
   "outputs": [],
   "source": []
  }
 ],
 "metadata": {
  "kernelspec": {
   "display_name": "Python 3",
   "language": "python",
   "name": "python3"
  },
  "language_info": {
   "codemirror_mode": {
    "name": "ipython",
    "version": 3
   },
   "file_extension": ".py",
   "mimetype": "text/x-python",
   "name": "python",
   "nbconvert_exporter": "python",
   "pygments_lexer": "ipython3",
   "version": "3.5.1"
  }
 },
 "nbformat": 4,
 "nbformat_minor": 0
}
